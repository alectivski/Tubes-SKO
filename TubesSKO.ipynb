{
  "nbformat": 4,
  "nbformat_minor": 0,
  "metadata": {
    "colab": {
      "name": "TubesSKO.ipynb",
      "provenance": [],
      "authorship_tag": "ABX9TyN7ujU8ynJV6ThNRkvDOtQk",
      "include_colab_link": true
    },
    "kernelspec": {
      "name": "python3",
      "display_name": "Python 3"
    }
  },
  "cells": [
    {
      "cell_type": "markdown",
      "metadata": {
        "id": "view-in-github",
        "colab_type": "text"
      },
      "source": [
        "<a href=\"https://colab.research.google.com/github/alectivski/Tubes-SKO/blob/main/TubesSKO.ipynb\" target=\"_parent\"><img src=\"https://colab.research.google.com/assets/colab-badge.svg\" alt=\"Open In Colab\"/></a>"
      ]
    },
    {
      "cell_type": "code",
      "metadata": {
        "id": "N8QwXA8r1ifI"
      },
      "source": [
        "import math as m\r\n",
        "import matplotlib.pyplot as plt\r\n",
        "import numpy as np"
      ],
      "execution_count": 12,
      "outputs": []
    },
    {
      "cell_type": "code",
      "metadata": {
        "id": "08q16tlJ1lUF"
      },
      "source": [
        "#Converter\r\n",
        "NtL = lambda x : 10 * np.log10(x)\r\n",
        "LtN = lambda x : 10**(x/10)\r\n",
        "\r\n",
        "#Parameter SNR\r\n",
        "R = 0.8 #Responsivitas\r\n",
        "SM = 6   #Safety Margin\r\n",
        "M = -0.23 #Tambahan daya sinyal OPD\r\n",
        "q = 1.6*10**-19 #Muatan\r\n",
        "id = 90*10**-9 #Dark Current\r\n",
        "B = 8*10**9 #Bandwidth\r\n",
        "F = 1 #Factor Gain\r\n",
        "K = 1.38*10**-23 #Konstanta Boltzman\r\n",
        "Temp = 300 #Temperature\r\n",
        "RL = 50 #Resistance Equivalent\r\n",
        "\r\n",
        "#Parameter Pr\r\n",
        "#jarak dari sentral ke ONU = 13 km\r\n",
        "#jarak dari ONU ke Roset = <500 m --> 5*10 = 50 m \r\n",
        "#jarak total = 13000 + 50 = 13050 m\r\n",
        "\r\n",
        "d = np.arange(0.05,13.050,1) #Jarak (km)\r\n",
        "L_fiber = 0.32 #berdasarkan jenis G625D (dB)  \r\n",
        "N_splicer = 6 #Jumlah Splicer\r\n",
        "L_splicer = 0.2 #Loss dari splicer (db)\r\n",
        "N_connector = 4 #Jumlah Konektor\r\n",
        "L_connector = 0.3 #Loss dari konektor (dB)\r\n",
        "L_splitter = 13 + 15 \r\n",
        "Pt = 2 #Daya tx (dBm)"
      ],
      "execution_count": 29,
      "outputs": []
    },
    {
      "cell_type": "code",
      "metadata": {
        "colab": {
          "base_uri": "https://localhost:8080/"
        },
        "id": "gN_51W5O1pQJ",
        "outputId": "a9749f42-487f-4e03-b581-c064dc70b513"
      },
      "source": [
        "#RUMUS PR\r\n",
        "def P_receive():\r\n",
        "  hambatan_fiber = d * L_fiber\r\n",
        "  hambatan_splicer = N_splicer * L_splicer\r\n",
        "  hambatan_connector = N_connector * L_connector\r\n",
        "\r\n",
        "  alfa_total = hambatan_fiber + hambatan_splicer + hambatan_connector + L_splitter + SM\r\n",
        "  print(\"Redaman Total =\", alfa_total)\r\n",
        "  Pr = (Pt - alfa_total)\r\n",
        "  return Pr\r\n",
        "\r\n",
        "Pr = P_receive()\r\n",
        "\r\n",
        "print(\"Daya Terima = \", Pr, \"dBm\")"
      ],
      "execution_count": 21,
      "outputs": [
        {
          "output_type": "stream",
          "text": [
            "Redaman Total = [36.416 36.736 37.056 37.376 37.696 38.016 38.336 38.656 38.976 39.296\n",
            " 39.616 39.936 40.256 40.576 40.896 41.216 41.536 41.856 42.176 42.496\n",
            " 42.816 43.136 43.456 43.776 44.096]\n",
            "Daya Terima =  [-34.416 -34.736 -35.056 -35.376 -35.696 -36.016 -36.336 -36.656 -36.976\n",
            " -37.296 -37.616 -37.936 -38.256 -38.576 -38.896 -39.216 -39.536 -39.856\n",
            " -40.176 -40.496 -40.816 -41.136 -41.456 -41.776 -42.096] dBm\n"
          ],
          "name": "stdout"
        }
      ]
    },
    {
      "cell_type": "code",
      "metadata": {
        "colab": {
          "base_uri": "https://localhost:8080/"
        },
        "id": "GB_qKun71up4",
        "outputId": "b5daedee-36da-45bd-b353-3448017bac0b"
      },
      "source": [
        "#Arus Primer\r\n",
        "def arus_primer():\r\n",
        "  Pr_num = LtN(Pr)\r\n",
        "  ip = Pr_num * R\r\n",
        "  return ip\r\n",
        "ip = arus_primer()\r\n",
        "print(\"Ip = \", ip)"
      ],
      "execution_count": 22,
      "outputs": [
        {
          "output_type": "stream",
          "text": [
            "Ip =  [2.89394309e-04 2.68837586e-04 2.49741081e-04 2.32001070e-04\n",
            " 2.15521195e-04 2.00211946e-04 1.85990168e-04 1.72778614e-04\n",
            " 1.60505525e-04 1.49104238e-04 1.38512825e-04 1.28673759e-04\n",
            " 1.19533597e-04 1.11042693e-04 1.03154930e-04 9.58274622e-05\n",
            " 8.90204913e-05 8.26970442e-05 7.68227743e-05 7.13657751e-05\n",
            " 6.62964062e-05 6.15871330e-05 5.72123764e-05 5.31483746e-05\n",
            " 4.93730535e-05]\n"
          ],
          "name": "stdout"
        }
      ]
    },
    {
      "cell_type": "code",
      "metadata": {
        "colab": {
          "base_uri": "https://localhost:8080/"
        },
        "id": "PanFMBjZ1xyX",
        "outputId": "be7ab072-e897-46cc-a6a0-0c0538d9f68e"
      },
      "source": [
        "#Signal Power\r\n",
        "def signal_power():\r\n",
        "  Is_kuadrat = (ip*M)**2\r\n",
        "  return Is_kuadrat\r\n",
        "Is_kuadrat = signal_power()\r\n",
        "print('Is^2 = ', Is_kuadrat)"
      ],
      "execution_count": 24,
      "outputs": [
        {
          "output_type": "stream",
          "text": [
            "Is^2 =  [4.43032561e-09 3.82327596e-09 3.29940514e-09 2.84731585e-09\n",
            " 2.45717250e-09 2.12048715e-09 1.82993493e-09 1.57919458e-09\n",
            " 1.36281105e-09 1.17607670e-09 1.01492896e-09 8.75861922e-10\n",
            " 7.55850050e-10 6.52282378e-10 5.62905700e-10 4.85775543e-10\n",
            " 4.19213873e-10 3.61772579e-10 3.12201975e-10 2.69423607e-10\n",
            " 2.32506793e-10 2.00648375e-10 1.73155243e-10 1.49429260e-10\n",
            " 1.28954246e-10]\n"
          ],
          "name": "stdout"
        }
      ]
    },
    {
      "cell_type": "code",
      "metadata": {
        "colab": {
          "base_uri": "https://localhost:8080/"
        },
        "id": "-mLBDiKK1z9e",
        "outputId": "d6551225-7e1d-4f98-933e-6a0ea46bf15e"
      },
      "source": [
        "#RUMUS SNR\r\n",
        "def SNR():\r\n",
        "  BDC = 2*q*id*B*(M**2)*F #Dark Current (Numerik)\r\n",
        "  SN = 2*q*ip*B*(M**2)*F #Shot Noise (Numerik)\r\n",
        "  NT = (4*K*Temp*B)/RL #Noise Thermal (Numerik)\r\n",
        "  Signal = Is_kuadrat # (Numerik)\r\n",
        "  Noise = BDC + SN + NT # (Numerik)\r\n",
        "\r\n",
        "  SNR = Signal / Noise\r\n",
        "  SNR_dBm = NtL(SNR)\r\n",
        "  return SNR_dBm\r\n",
        "\r\n",
        "SNR = SNR()\r\n",
        "print(SNR)"
      ],
      "execution_count": 25,
      "outputs": [
        {
          "output_type": "stream",
          "text": [
            "[32.16876642 31.53326525 30.8974487  30.26133859 29.62495529 28.98831779\n",
            " 28.35144377 27.71434972 27.07705099 26.43956188 25.80189572 25.16406491\n",
            " 24.52608098 23.88795468 23.24969601 22.61131427 21.97281812 21.33421561\n",
            " 20.69551424 20.05672097 19.41784228 18.7788842  18.13985233 17.50075189\n",
            " 16.86158772]\n"
          ],
          "name": "stdout"
        }
      ]
    },
    {
      "cell_type": "code",
      "metadata": {
        "colab": {
          "base_uri": "https://localhost:8080/"
        },
        "id": "Ggadu_6v14Ni",
        "outputId": "58723774-859b-42bc-cf44-7bb1e27e7558"
      },
      "source": [
        "#RUMUS Q\r\n",
        "def Q_rumus():\r\n",
        "  Q_rumus = 0.5*(10**(SNR/20))\r\n",
        "  return Q_rumus\r\n",
        "Q = Q_rumus()\r\n",
        "print(Q)"
      ],
      "execution_count": 26,
      "outputs": [
        {
          "output_type": "stream",
          "text": [
            "[20.29590051 18.86397738 17.53244314 16.29434599 15.14320386 14.07297427\n",
            " 13.07802589 12.15311172 11.29334391 10.49417008  9.75135103  9.0609399\n",
            "  8.41926255  7.82289927  7.26866753  6.75360595  6.27495926  5.83016418\n",
            "  5.41683636  5.03275806  4.67586666  4.34424404  4.03610653  3.74979563\n",
            "  3.48376932]\n"
          ],
          "name": "stdout"
        }
      ]
    },
    {
      "cell_type": "code",
      "metadata": {
        "colab": {
          "base_uri": "https://localhost:8080/"
        },
        "id": "3NAgRM0N14yF",
        "outputId": "6e5aea0e-3d85-40b0-dc4d-d9811fa127c3"
      },
      "source": [
        "#RUMUS BER\r\n",
        "pengkali_list = []\r\n",
        "def BER_rumus():\r\n",
        "  akar = 1/(Q * m.sqrt(2 * m.pi))\r\n",
        "  for i in range(len(Q)):\r\n",
        "    pengkali = m.exp(-(Q[i]**2)/2)\r\n",
        "    pengkali_list.append(pengkali)\r\n",
        "  BER = (1/akar)*(pengkali_list)\r\n",
        "  return BER\r\n",
        "BER = BER_rumus()\r\n",
        "print(BER)"
      ],
      "execution_count": 27,
      "outputs": [
        {
          "output_type": "stream",
          "text": [
            "[1.81313395e-88 2.52903662e-76 7.84853169e-66 9.06346416e-57\n",
            " 6.07904959e-49 3.48151043e-42 2.37632389e-36 2.57950999e-31\n",
            " 5.71526811e-27 3.20724628e-23 5.49381418e-20 3.37549523e-17\n",
            " 8.55269287e-15 1.00817160e-12 6.13606537e-11 2.10999221e-09\n",
            " 4.43101837e-08 6.07797850e-07 5.77133222e-06 3.98885939e-05\n",
            " 2.09557694e-04 8.68765027e-04 2.93555441e-03 8.31375616e-03\n",
            " 2.02162012e-02]\n"
          ],
          "name": "stdout"
        }
      ]
    },
    {
      "cell_type": "code",
      "metadata": {
        "colab": {
          "base_uri": "https://localhost:8080/",
          "height": 1000
        },
        "id": "HAQ480r-19y7",
        "outputId": "46d3af81-1644-4146-bf30-7c5be95e53f3"
      },
      "source": [
        "#GRAFIK\r\n",
        "def grafik_pertama():\r\n",
        "  plt.figure()\r\n",
        "  plt.plot(d,SNR,'r')\r\n",
        "  plt.title('Perbandingan Jarak dengan SNR')\r\n",
        "  plt.xlabel('Jarak (Km)')\r\n",
        "  plt.ylabel('SNR (dB)')\r\n",
        "  plt.show()\r\n",
        "\r\n",
        "def grafik_kedua():\r\n",
        "  plt.figure()\r\n",
        "  plt.plot(d,Q,'g')\r\n",
        "  plt.title('Perbandingan Jarak dengan Q')\r\n",
        "  plt.xlabel('Jarak (Km)')\r\n",
        "  plt.ylabel('Q')\r\n",
        "  plt.show()\r\n",
        "\r\n",
        "def grafik_ketiga():\r\n",
        "  plt.figure()\r\n",
        "  plt.plot(d,BER,'b')\r\n",
        "  plt.title('Perbandingan Jarak dengan BER')\r\n",
        "  plt.xlabel('Jarak (Km)')\r\n",
        "  plt.ylabel('BER')\r\n",
        "  plt.show()\r\n",
        "\r\n",
        "def grafik_perbandingan_SNR_BER():\r\n",
        "  plt.figure()\r\n",
        "  plt.plot(SNR,BER,'--')\r\n",
        "  plt.title('Perbanding BER dan SNR')\r\n",
        "  plt.xlabel('SNR')\r\n",
        "  plt.ylabel('BER')\r\n",
        "  plt.show()\r\n",
        "  \r\n",
        "\r\n",
        "grafik_pertama()\r\n",
        "grafik_kedua()\r\n",
        "grafik_ketiga()\r\n",
        "grafik_perbandingan_SNR_BER()"
      ],
      "execution_count": 28,
      "outputs": [
        {
          "output_type": "display_data",
          "data": {
            "image/png": "[encoded data removed]",
            "text/plain": [
              "<Figure size 432x288 with 1 Axes>"
            ]
          },
          "metadata": {
            "tags": [],
            "needs_background": "light"
          }
        },
        {
          "output_type": "display_data",
          "data": {
            "image/png": "[encoded data removed]",
            "text/plain": [
              "<Figure size 432x288 with 1 Axes>"
            ]
          },
          "metadata": {
            "tags": [],
            "needs_background": "light"
          }
        },
        {
          "output_type": "display_data",
          "data": {
            "image/png": "[encoded data removed]",
            "text/plain": [
              "<Figure size 432x288 with 1 Axes>"
            ]
          },
          "metadata": {
            "tags": [],
            "needs_background": "light"
          }
        },
        {
          "output_type": "display_data",
          "data": {
            "image/png": "[encoded data removed]",
            "text/plain": [
              "<Figure size 432x288 with 1 Axes>"
            ]
          },
          "metadata": {
            "tags": [],
            "needs_background": "light"
          }
        }
      ]
    }
  ]
}